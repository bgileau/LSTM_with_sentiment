{
 "cells": [
  {
   "cell_type": "code",
   "execution_count": 2,
   "metadata": {},
   "outputs": [],
   "source": [
    "import pandas as pd"
   ]
  },
  {
   "cell_type": "code",
   "execution_count": 3,
   "metadata": {},
   "outputs": [],
   "source": [
    "source = r\"Combined_News_DJIA.csv\"\n",
    "df = pd.read_csv(source)"
   ]
  },
  {
   "cell_type": "code",
   "execution_count": 4,
   "metadata": {},
   "outputs": [],
   "source": [
    "cols = df.columns\n",
    "\n",
    "for col in cols[2:]:\n",
    "    df[col] = df[col].astype(str).str[2:-1]"
   ]
  },
  {
   "cell_type": "code",
   "execution_count": 5,
   "metadata": {},
   "outputs": [],
   "source": [
    "df_melt = df.melt(id_vars=['Date', 'Label'], value_vars=df.columns[2:], var_name='Top', value_name='Headline')\n",
    "df_melt = df_melt.drop(columns=['Label'])\n",
    "df_melt[\"Top\"] = df_melt[\"Top\"].str.replace(\"Top\", \"\").astype(\"Int16\")\n",
    "df_melt = df_melt.sort_values(['Date', \"Top\"])\n",
    "\n",
    "df_melt.to_csv(\"Combined_News_DJIA_cleaned_for_vicuna_full.csv\", index=False)\n",
    "\n",
    "# display(df_melt)"
   ]
  },
  {
   "cell_type": "code",
   "execution_count": 8,
   "metadata": {},
   "outputs": [
    {
     "data": {
      "text/html": [
       "<div>\n",
       "<style scoped>\n",
       "    .dataframe tbody tr th:only-of-type {\n",
       "        vertical-align: middle;\n",
       "    }\n",
       "\n",
       "    .dataframe tbody tr th {\n",
       "        vertical-align: top;\n",
       "    }\n",
       "\n",
       "    .dataframe thead th {\n",
       "        text-align: right;\n",
       "    }\n",
       "</style>\n",
       "<table border=\"1\" class=\"dataframe\">\n",
       "  <thead>\n",
       "    <tr style=\"text-align: right;\">\n",
       "      <th></th>\n",
       "      <th>Date</th>\n",
       "      <th>Top</th>\n",
       "      <th>Headline</th>\n",
       "    </tr>\n",
       "  </thead>\n",
       "  <tbody>\n",
       "    <tr>\n",
       "      <th>0</th>\n",
       "      <td>2008-08-08</td>\n",
       "      <td>1</td>\n",
       "      <td>Georgia 'downs two Russian warplanes' as count...</td>\n",
       "    </tr>\n",
       "    <tr>\n",
       "      <th>1</th>\n",
       "      <td>2008-08-08</td>\n",
       "      <td>2</td>\n",
       "      <td>BREAKING: Musharraf to be impeached.</td>\n",
       "    </tr>\n",
       "    <tr>\n",
       "      <th>2</th>\n",
       "      <td>2008-08-08</td>\n",
       "      <td>3</td>\n",
       "      <td>Russia Today: Columns of troops roll into Sout...</td>\n",
       "    </tr>\n",
       "    <tr>\n",
       "      <th>3</th>\n",
       "      <td>2008-08-08</td>\n",
       "      <td>4</td>\n",
       "      <td>Russian tanks are moving towards the capital o...</td>\n",
       "    </tr>\n",
       "    <tr>\n",
       "      <th>4</th>\n",
       "      <td>2008-08-08</td>\n",
       "      <td>5</td>\n",
       "      <td>Afghan children raped with 'impunity,' U.N. of...</td>\n",
       "    </tr>\n",
       "    <tr>\n",
       "      <th>...</th>\n",
       "      <td>...</td>\n",
       "      <td>...</td>\n",
       "      <td>...</td>\n",
       "    </tr>\n",
       "    <tr>\n",
       "      <th>49720</th>\n",
       "      <td>2016-07-01</td>\n",
       "      <td>21</td>\n",
       "      <td>ilippines president Rodrigo Duterte urges peop...</td>\n",
       "    </tr>\n",
       "    <tr>\n",
       "      <th>49721</th>\n",
       "      <td>2016-07-01</td>\n",
       "      <td>22</td>\n",
       "      <td>ain arrests three Pakistanis accused of promot...</td>\n",
       "    </tr>\n",
       "    <tr>\n",
       "      <th>49722</th>\n",
       "      <td>2016-07-01</td>\n",
       "      <td>23</td>\n",
       "      <td>nezuela, where anger over food shortages is st...</td>\n",
       "    </tr>\n",
       "    <tr>\n",
       "      <th>49723</th>\n",
       "      <td>2016-07-01</td>\n",
       "      <td>24</td>\n",
       "      <td>Hindu temple worker has been killed by three m...</td>\n",
       "    </tr>\n",
       "    <tr>\n",
       "      <th>49724</th>\n",
       "      <td>2016-07-01</td>\n",
       "      <td>25</td>\n",
       "      <td>one layer hole seems to be healing - US &amp;amp; ...</td>\n",
       "    </tr>\n",
       "  </tbody>\n",
       "</table>\n",
       "<p>49725 rows × 3 columns</p>\n",
       "</div>"
      ],
      "text/plain": [
       "             Date  Top                                           Headline\n",
       "0      2008-08-08    1  Georgia 'downs two Russian warplanes' as count...\n",
       "1      2008-08-08    2               BREAKING: Musharraf to be impeached.\n",
       "2      2008-08-08    3  Russia Today: Columns of troops roll into Sout...\n",
       "3      2008-08-08    4  Russian tanks are moving towards the capital o...\n",
       "4      2008-08-08    5  Afghan children raped with 'impunity,' U.N. of...\n",
       "...           ...  ...                                                ...\n",
       "49720  2016-07-01   21  ilippines president Rodrigo Duterte urges peop...\n",
       "49721  2016-07-01   22  ain arrests three Pakistanis accused of promot...\n",
       "49722  2016-07-01   23  nezuela, where anger over food shortages is st...\n",
       "49723  2016-07-01   24  Hindu temple worker has been killed by three m...\n",
       "49724  2016-07-01   25  one layer hole seems to be healing - US &amp; ...\n",
       "\n",
       "[49725 rows x 3 columns]"
      ]
     },
     "metadata": {},
     "output_type": "display_data"
    }
   ],
   "source": [
    "# Check\n",
    "headline_source = r\"Combined_News_DJIA_cleaned_for_vicuna_full.csv\"\n",
    "headline_df = pd.read_csv(headline_source)\n",
    "display(headline_df)"
   ]
  },
  {
   "cell_type": "code",
   "execution_count": 12,
   "metadata": {},
   "outputs": [],
   "source": [
    "headline_df_1to10 = headline_df[headline_df[\"Top\"] <= 10]\n",
    "headline_df_1to10.to_csv(\"Combined_News_DJIA_cleaned_for_vicuna_1to10.csv\", index=False)"
   ]
  },
  {
   "cell_type": "code",
   "execution_count": 15,
   "metadata": {},
   "outputs": [
    {
     "name": "stdout",
     "output_type": "stream",
     "text": [
      "Empty DataFrame\n",
      "Columns: [Date, Headline, Sentiment]\n",
      "Index: []\n"
     ]
    }
   ],
   "source": [
    "processed_df = pd.DataFrame(columns=['Date', 'Headline', 'Sentiment'])\n",
    "print(processed_df)\n",
    "processed_df = pd.concat([processed_df, pd.DataFrame({'Date': [\"temp\"], 'Headline': [\"temp\"], 'Sentiment': [\"temp\"]})], ignore_index=True)"
   ]
  },
  {
   "cell_type": "code",
   "execution_count": 16,
   "metadata": {},
   "outputs": [
    {
     "data": {
      "text/html": [
       "<div>\n",
       "<style scoped>\n",
       "    .dataframe tbody tr th:only-of-type {\n",
       "        vertical-align: middle;\n",
       "    }\n",
       "\n",
       "    .dataframe tbody tr th {\n",
       "        vertical-align: top;\n",
       "    }\n",
       "\n",
       "    .dataframe thead th {\n",
       "        text-align: right;\n",
       "    }\n",
       "</style>\n",
       "<table border=\"1\" class=\"dataframe\">\n",
       "  <thead>\n",
       "    <tr style=\"text-align: right;\">\n",
       "      <th></th>\n",
       "      <th>Date</th>\n",
       "      <th>Headline</th>\n",
       "      <th>Sentiment</th>\n",
       "    </tr>\n",
       "  </thead>\n",
       "  <tbody>\n",
       "    <tr>\n",
       "      <th>0</th>\n",
       "      <td>temp</td>\n",
       "      <td>temp</td>\n",
       "      <td>temp</td>\n",
       "    </tr>\n",
       "  </tbody>\n",
       "</table>\n",
       "</div>"
      ],
      "text/plain": [
       "   Date Headline Sentiment\n",
       "0  temp     temp      temp"
      ]
     },
     "metadata": {},
     "output_type": "display_data"
    }
   ],
   "source": [
    "display(processed_df)"
   ]
  },
  {
   "cell_type": "code",
   "execution_count": 3,
   "metadata": {},
   "outputs": [
    {
     "name": "stdout",
     "output_type": "stream",
     "text": [
      "Empty DataFrame\n",
      "Columns: [Date, Headline, Sentiment]\n",
      "Index: []\n"
     ]
    }
   ],
   "source": [
    "headline_df_small = pd.read_csv(r\"Combined_News_DJIA_cleaned_for_vicuna_1to10.csv\")\n",
    "headline_df_1to3 = headline_df_small[headline_df_small[\"Top\"] <= 10]\n",
    "headline_df_1to3 = headline_df_1to3[headline_df_1to3['Date'] < '2010-07-01']\n",
    "\n",
    "\n",
    "headline_df_1to3.to_csv(\"unprocessed_rows.csv\", index=False)\n",
    "processed_df = pd.DataFrame(columns=['Date', 'Headline', 'Sentiment'])\n",
    "print(processed_df)\n",
    "processed_df = pd.concat([processed_df, pd.DataFrame({'Date': [\"temp\"], 'Headline': [\"temp\"], 'Sentiment': [\"temp\"]})], ignore_index=True)"
   ]
  }
 ],
 "metadata": {
  "kernelspec": {
   "display_name": "base",
   "language": "python",
   "name": "python3"
  },
  "language_info": {
   "codemirror_mode": {
    "name": "ipython",
    "version": 3
   },
   "file_extension": ".py",
   "mimetype": "text/x-python",
   "name": "python",
   "nbconvert_exporter": "python",
   "pygments_lexer": "ipython3",
   "version": "3.9.15"
  },
  "orig_nbformat": 4
 },
 "nbformat": 4,
 "nbformat_minor": 2
}
